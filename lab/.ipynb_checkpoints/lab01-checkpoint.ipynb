{
 "cells": [
  {
   "cell_type": "markdown",
   "metadata": {},
   "source": [
    "## 모두를 위한 딥러닝 Lab#01\n",
    "#### 2018.06.07\n",
    "\n",
    "---"
   ]
  },
  {
   "cell_type": "markdown",
   "metadata": {},
   "source": [
    "- 데이터 플로우 그래프\n",
    "    - 그래프에서 **Node**는 숫자 연산(Operation)을 의미한다.\n",
    "\t- 엣지는 다차원 데이터 어레이(Tensor)를 의미한다.\n"
   ]
  },
  {
   "cell_type": "markdown",
   "metadata": {},
   "source": [
    "- Install\n",
    "    > 겁나 오래 걸린다...\n",
    "        \n",
    "    ``` $ pip install --upgrade tensorflow  ```"
   ]
  },
  {
   "cell_type": "markdown",
   "metadata": {},
   "source": [
    "- Version Check"
   ]
  },
  {
   "cell_type": "code",
   "execution_count": 2,
   "metadata": {},
   "outputs": [
    {
     "data": {
      "text/plain": [
       "'1.8.0'"
      ]
     },
     "execution_count": 2,
     "metadata": {},
     "output_type": "execute_result"
    }
   ],
   "source": [
    "import tensorflow as tf\n",
    "tf.__version__"
   ]
  },
  {
   "cell_type": "markdown",
   "metadata": {},
   "source": [
    "- Hello Tensorflow"
   ]
  },
  {
   "cell_type": "code",
   "execution_count": 4,
   "metadata": {},
   "outputs": [
    {
     "name": "stdout",
     "output_type": "stream",
     "text": [
      "b'Hello, Tensorflow!'\n"
     ]
    }
   ],
   "source": [
    "# constant 생성\n",
    "# 하나의 Node 생성됨\n",
    "hello = tf.constant(\"Hello, Tensorflow!\")\n",
    "\n",
    "# 그래프를 실행하려면 세션을 만들어야됨..(?)\n",
    "sess = tf.Session()\n",
    "\n",
    "# 세션 실행 후 출력\n",
    "print(sess.run(hello))"
   ]
  },
  {
   "cell_type": "markdown",
   "metadata": {},
   "source": [
    "- Computational Graph\n",
    "    \n",
    "    > ```3``` 노드와 ```4``` 노드를 더하는 그래프.\n",
    "    \n",
    "    - 노드 생성 \n",
    "    \n",
    "        > Graph Build"
   ]
  },
  {
   "cell_type": "code",
   "execution_count": 5,
   "metadata": {},
   "outputs": [],
   "source": [
    "node1 = tf.constant(3.0, tf.float32)\n",
    "node2 = tf.constant(4.0, tf.float32)\n",
    "node3 = tf.add(node1, node2)"
   ]
  },
  {
   "cell_type": "markdown",
   "metadata": {},
   "source": [
    "- 노드 출력"
   ]
  },
  {
   "cell_type": "code",
   "execution_count": 6,
   "metadata": {},
   "outputs": [
    {
     "name": "stdout",
     "output_type": "stream",
     "text": [
      "node1:  Tensor(\"Const_2:0\", shape=(), dtype=float32)  node2:  Tensor(\"Const_3:0\", shape=(), dtype=float32)\n",
      "node3:  Tensor(\"Add:0\", shape=(), dtype=float32)\n"
     ]
    }
   ],
   "source": [
    "print(\"node1: \", node1, \" node2: \", node2)\n",
    "print(\"node3: \", node3)"
   ]
  },
  {
   "cell_type": "markdown",
   "metadata": {},
   "source": [
    "- 실행 및 출력\n",
    "    > feed data and run graph, update variables in the graph and return value"
   ]
  },
  {
   "cell_type": "code",
   "execution_count": 8,
   "metadata": {},
   "outputs": [
    {
     "name": "stdout",
     "output_type": "stream",
     "text": [
      "sess.run(node1, node2):  [3.0, 4.0]\n",
      "sess.run(node3):  7.0\n"
     ]
    }
   ],
   "source": [
    "sess = tf.Session()\n",
    "print(\"sess.run(node1, node2): \", sess.run([node1, node2]))\n",
    "print(\"sess.run(node3): \", sess.run(node3))"
   ]
  },
  {
   "cell_type": "markdown",
   "metadata": {},
   "source": [
    "    - 작동 순서\n",
    "        1. 텐서플로 오퍼레이션을 통한 그래프 빌드\n",
    "        2. sess.run()을 통해 그래프를 실행\n",
    "        3. 그 결과로 그래프 데이터 업데이트 혹은 리턴"
   ]
  },
  {
   "cell_type": "markdown",
   "metadata": {},
   "source": [
    "- Placholder\n",
    "    > 그래프를 실행시키는 단계에서 그래프를 미리 만들어놓고, 나중에 실제 데이터로 변경할 때 사용"
   ]
  },
  {
   "cell_type": "code",
   "execution_count": 9,
   "metadata": {},
   "outputs": [
    {
     "name": "stdout",
     "output_type": "stream",
     "text": [
      "7.5\n",
      "[3. 7.]\n"
     ]
    }
   ],
   "source": [
    "a = tf.placeholder(tf.float32)\n",
    "b = tf.placeholder(tf.float32)\n",
    "\n",
    "adder_node = a + b\n",
    "\n",
    "print(sess.run(adder_node, feed_dict={a: 3, b: 4.5}))\n",
    "print(sess.run(adder_node, feed_dict={a: [1,3], b: [2,4]}))"
   ]
  },
  {
   "cell_type": "markdown",
   "metadata": {},
   "source": [
    "    - 작동 순서\n",
    "        1. 텐서플로 오퍼레이션을 통한 그래프 빌드(plaholder로 노드 생성)\n",
    "        2. sess.run()을 통해 그래프를 실행, feed_dict로 많은 데이터 전달\n",
    "        3. 그 결과로 그래프 데이터 업데이트 혹은 리턴"
   ]
  },
  {
   "cell_type": "markdown",
   "metadata": {},
   "source": [
    "- Ranks        \n",
    "    > 몇 차원 이냐?\n",
    "\n",
    "Rank|Math entity| Python example\n",
    "---|---|---\n",
    "0|Scalar| s = 483\n",
    "1|Vector| v = [1.1, 2.2, 3.3]\n",
    "2|Matrix| m = [[1,2,3], [4,5,6], [7,8,9]]\n",
    "3|3-Tensor| t = [[[2],[4],[6]],[[8],[10],[12]],[[14],[16],[18]]]\n",
    "n|n-Tensor|..."
   ]
  },
  {
   "cell_type": "markdown",
   "metadata": {},
   "source": [
    "- Shapes\n",
    "    > 각 **Element**에 몇 개 씩 들어있나?\n",
    "\t\t\t\n",
    "Rank|Shape|Dimension number|Python example\n",
    "---|---|---|---\n",
    "0|[]|0-D| A Scalar\n",
    "1|[D0]|1-D| [5]\n",
    "2|[D0, D1]|2-D| [3, 4]\n",
    "3|[D0, D1, D3]|3-D| [1, 4, 3]\n",
    "n|[D0, D1, ... , Dn-1]|n-D| [D0, D1, ... , Dn-1]"
   ]
  },
  {
   "cell_type": "code",
   "execution_count": 11,
   "metadata": {},
   "outputs": [],
   "source": [
    "# [3 3) or [3, 3]\n",
    "t = [[1,2,3], [4,5,6], [7,8,9]]"
   ]
  },
  {
   "cell_type": "markdown",
   "metadata": {},
   "source": [
    "- Types\n",
    "\n",
    "    > 데이터의 타입\n",
    "\n",
    "Data type|Python type|Description\n",
    "---|---|---\n",
    "**DT_FLOAT**|**tf.float32**|**32비트 floating point**\n",
    "DT_DOUBLE|tf.float64|64비트 floating point\n",
    "DT_INT8|tf.int8|8비트 singned integer\n",
    "DT_INT16|tf.int16|16비트 singned integer\n",
    "**DT_INT32**|**tf.int32**|**32비트 singned integer**\n",
    "DT_INT64|tf.int64|64비트 singned integer\n",
    "...|...|..."
   ]
  },
  {
   "cell_type": "code",
   "execution_count": null,
   "metadata": {},
   "outputs": [],
   "source": []
  }
 ],
 "metadata": {
  "kernelspec": {
   "display_name": "Python 3",
   "language": "python",
   "name": "python3"
  },
  "language_info": {
   "codemirror_mode": {
    "name": "ipython",
    "version": 3
   },
   "file_extension": ".py",
   "mimetype": "text/x-python",
   "name": "python",
   "nbconvert_exporter": "python",
   "pygments_lexer": "ipython3",
   "version": "3.6.5"
  }
 },
 "nbformat": 4,
 "nbformat_minor": 2
}
