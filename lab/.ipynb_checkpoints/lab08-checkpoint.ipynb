{
 "cells": [
  {
   "cell_type": "markdown",
   "metadata": {},
   "source": [
    "## 모두를 위한 딥러닝 Lab#08\n",
    "#### 2018.06.29\n",
    "\n",
    "---\n",
    "\n",
    "- Tensor Manipulation\n"
   ]
  },
  {
   "cell_type": "code",
   "execution_count": 5,
   "metadata": {},
   "outputs": [
    {
     "name": "stdout",
     "output_type": "stream",
     "text": [
      "[0. 1. 2. 3. 4. 5. 6.]\n",
      "1\n",
      "(7,)\n",
      "0.0 1.0 6.0\n",
      "[2. 3. 4.] [4. 5.]\n",
      "[0. 1.] [3. 4. 5. 6.]\n"
     ]
    }
   ],
   "source": [
    "import numpy as np\n",
    "\n",
    "t = np.array([0., 1., 2., 3., 4., 5., 6.,])\n",
    "\n",
    "print(t)\n",
    "\n",
    "# rank : 몇 차원?\n",
    "print(t.ndim) \n",
    "\n",
    "#shape : 몇 개의 엘리먼트?\n",
    "print(t.shape)\n",
    "\n",
    "# -1은 마지막 의미.\n",
    "print(t[0], t[1], t[-1])\n",
    "\n",
    "# [4:-1] : 4번째 부터 마지막 이전 까지\n",
    "print(t[2:5], t[4:-1])\n",
    "\n",
    "print(t[:2], t[3:])\n"
   ]
  },
  {
   "cell_type": "code",
   "execution_count": 8,
   "metadata": {},
   "outputs": [
    {
     "name": "stdout",
     "output_type": "stream",
     "text": [
      "[[ 1.  2.  3.]\n",
      " [ 4.  5.  6.]\n",
      " [ 7.  8.  9.]\n",
      " [10. 11. 12.]]\n",
      "2\n",
      "(4, 3)\n"
     ]
    }
   ],
   "source": [
    "\n",
    "t = np.array([[1.,2.,3.,], [4.,5.,6.,], [7.,8.,9.,], [10.,11.,12.,]])\n",
    "\n",
    "print(t)\n",
    "print(t.ndim)\n",
    "print(t.shape)"
   ]
  },
  {
   "cell_type": "code",
   "execution_count": 34,
   "metadata": {},
   "outputs": [
    {
     "name": "stdout",
     "output_type": "stream",
     "text": [
      "(4,)\n",
      "(2, 2)\n",
      "(1, 2, 3, 4)\n"
     ]
    }
   ],
   "source": [
    "import tensorflow as tf\n",
    "\n",
    "# rank:1, shape : (4)\n",
    "t = tf.constant([1,2,3,4])\n",
    "print(t.shape)\n",
    "\n",
    "    \n",
    "# rank : 2, shape: (2, 2)\n",
    "t = tf.constant([[1,2],\n",
    "                [3,4]])\n",
    "\n",
    "print(t.shape)\n",
    "\n",
    "# rank : 4, shape: (1,2,3,4)\n",
    "t = tf.constant([ # Axis 0\n",
    "                    [ # Axis 1\n",
    "                        [ # Axis 2\n",
    "                            [1,2,3,4], # Axis 3, -1\n",
    "                            [5,6,7,8],\n",
    "                            [9,10,11,12]\n",
    "                        ],\n",
    "                        [\n",
    "                            [13,14,15,16],\n",
    "                            [17,18,19,20],\n",
    "                            [21,22,23,24]\n",
    "                        ]\n",
    "                    ]\n",
    "                ])\n",
    "\n",
    "print(t.shape)\n"
   ]
  },
  {
   "cell_type": "code",
   "execution_count": 54,
   "metadata": {},
   "outputs": [
    {
     "name": "stdout",
     "output_type": "stream",
     "text": [
      "Matrix1 shape :  (2, 2)\n",
      "Matrix2 shape :  (2, 1)\n",
      "[[ 5.]\n",
      " [11.]]\n",
      "[[1. 2.]\n",
      " [6. 8.]]\n"
     ]
    }
   ],
   "source": [
    "import tensorflow as tf\n",
    "matrix1 = tf.constant([[1.,2.,],\n",
    "                       [3.,4.]])\n",
    "matrix2 = tf.constant([[1.],\n",
    "                       [2.,]])\n",
    "\n",
    "with tf.Session() as sess:\n",
    "    print(\"Matrix1 shape : \", matrix1.shape)\n",
    "    print(\"Matrix2 shape : \", matrix2.shape)\n",
    "\n",
    "    print(tf.matmul(matrix1, matrix2).eval(session = sess))\n",
    "\n",
    "    # Broadcasting.. 매트릭스의 모양이 맞지 않아도 연산이 가능하게 해줌..\n",
    "    print((matrix1*matrix2).eval(session = sess))"
   ]
  },
  {
   "cell_type": "code",
   "execution_count": 65,
   "metadata": {},
   "outputs": [
    {
     "name": "stdout",
     "output_type": "stream",
     "text": [
      "1\n",
      "2.5\n",
      "[2. 3.]\n",
      "[1.5 3.5]\n",
      "[1.5 3.5]\n",
      "10.0\n",
      "[4. 6.]\n",
      "[3. 7.]\n",
      "[3. 7.]\n",
      "5.0\n"
     ]
    }
   ],
   "source": [
    "import tensorflow as tf\n",
    "\n",
    "with tf.Session() as sess:\n",
    "\n",
    "    # reduce_mean : 평균!, Integer타입은 결과도...\n",
    "    print(tf.reduce_mean([1,2], axis=0).eval())\n",
    "    \n",
    "    x = [[1.,2.],\n",
    "        [3.,4.]]\n",
    "    \n",
    "    print(tf.reduce_mean(x).eval())\n",
    "    \n",
    "    print(tf.reduce_mean(x, axis=0).eval())\n",
    "    print(tf.reduce_mean(x, axis=1).eval())\n",
    "    print(tf.reduce_mean(x, axis=-1).eval())\n",
    "    \n",
    "    \n",
    "    print(tf.reduce_sum(x).eval()) # 10\n",
    "\n",
    "    print(tf.reduce_sum(x, axis=0).eval()) # [4., 6.]\n",
    "    print(tf.reduce_sum(x, axis=1).eval()) # [3., 7.]\n",
    "    print(tf.reduce_sum(x, axis=-1).eval()) # [3., 7.]\n",
    "    print(tf.reduce_mean(tf.reduce_sum(x, axis=-1)).eval()) # [3., 7.]"
   ]
  },
  {
   "cell_type": "code",
   "execution_count": 67,
   "metadata": {},
   "outputs": [
    {
     "name": "stdout",
     "output_type": "stream",
     "text": [
      "[1 0 0]\n",
      "[2 0]\n",
      "[2 0]\n"
     ]
    }
   ],
   "source": [
    "import tensorflow as tf\n",
    "\n",
    "with tf.Session() as sess:\n",
    "    \n",
    "    x = [\n",
    "            [0,1,2],\n",
    "            [2,1,0]\n",
    "        ]\n",
    "    \n",
    "    # armax() : 가장 큰 것의 위치\n",
    "\n",
    "    # axis = 0 이면, 가장 바깥쪽 축으로 계산\n",
    "    print(tf.argmax(x, axis=0).eval()) # [1,0,0]\n",
    "    \n",
    "    print(tf.argmax(x, axis=1).eval()) # [2,0]\n",
    "\n",
    "    print(tf.argmax(x, axis=-1).eval()) # [2,0]"
   ]
  },
  {
   "cell_type": "code",
   "execution_count": 74,
   "metadata": {},
   "outputs": [
    {
     "name": "stdout",
     "output_type": "stream",
     "text": [
      "(2, 2, 3)\n",
      "[[ 0  1  2]\n",
      " [ 3  4  5]\n",
      " [ 6  7  8]\n",
      " [ 9 10 11]]\n",
      "[[[ 0  1  2]]\n",
      "\n",
      " [[ 3  4  5]]\n",
      "\n",
      " [[ 6  7  8]]\n",
      "\n",
      " [[ 9 10 11]]]\n",
      "[0 1 2]\n",
      "[[0]\n",
      " [1]\n",
      " [2]]\n"
     ]
    }
   ],
   "source": [
    "import tensorflow as tf\n",
    "\n",
    "with tf.Session() as sess:\n",
    "    t = np.array([\n",
    "        [\n",
    "            [0, 1, 2],\n",
    "            [3, 4, 5]\n",
    "        ],\n",
    "        [\n",
    "            [6, 7, 8],\n",
    "            [9, 10, 11]\n",
    "        ]\n",
    "    ])\n",
    "    \n",
    "    print(t.shape)\n",
    "    \n",
    "    # 가장 안쪽은 열은 그대로 두고 나머지는 모두 펼침 \n",
    "    print(tf.reshape(t, shape=[-1, 3]).eval())\n",
    "    \n",
    "    # 가장 안쪽은 열을 1개짜리 행으로 감싸고 모두 펼침\n",
    "    print(tf.reshape(t, shape=[-1, 1, 3]).eval())\n",
    "    \n",
    "    # squeeze : 펼침\n",
    "    print(tf.squeeze([[0],[1],[2]]).eval())\n",
    "    \n",
    "    # expand\n",
    "    print(tf.expand_dims([0,1,2], 1).eval())"
   ]
  },
  {
   "cell_type": "code",
   "execution_count": 78,
   "metadata": {},
   "outputs": [
    {
     "name": "stdout",
     "output_type": "stream",
     "text": [
      "[[[1. 0. 0.]]\n",
      "\n",
      " [[0. 1. 0.]]\n",
      "\n",
      " [[0. 0. 1.]]\n",
      "\n",
      " [[0. 0. 0.]]]\n",
      "[[1. 0. 0.]\n",
      " [0. 1. 0.]\n",
      " [0. 0. 1.]\n",
      " [0. 0. 0.]]\n",
      "[[1. 0. 0.]\n",
      " [0. 1. 0.]\n",
      " [0. 0. 1.]\n",
      " [0. 0. 0.]]\n"
     ]
    }
   ],
   "source": [
    "import tensorflow as tf\n",
    "\n",
    "with tf.Session() as sess:\n",
    "    \n",
    "    print(tf.one_hot([[0],[1],[2],[3]], depth=3).eval())\n",
    "    \n",
    "    print(tf.one_hot([0, 1, 2, 3], depth=3).eval())\n",
    "    \n",
    "    t = tf.one_hot([[0],[1],[2],[3]], depth=3)\n",
    "    \n",
    "    print(tf.reshape(t, shape=[-1,3]).eval())"
   ]
  },
  {
   "cell_type": "code",
   "execution_count": 79,
   "metadata": {},
   "outputs": [
    {
     "name": "stdout",
     "output_type": "stream",
     "text": [
      "[1 2 3 4]\n",
      "[1 0 1 0]\n"
     ]
    }
   ],
   "source": [
    "import tensorflow as tf\n",
    "\n",
    "with tf.Session() as sess:\n",
    "    \n",
    "    print(tf.cast([1.8, 2.2, 3.3, 4.9], tf.int32).eval())\n",
    "    \n",
    "    print(tf.cast([True, False, 1 == 1, 0 == 1], tf.int32).eval())"
   ]
  },
  {
   "cell_type": "code",
   "execution_count": 85,
   "metadata": {},
   "outputs": [
    {
     "name": "stdout",
     "output_type": "stream",
     "text": [
      "[[1 4]\n",
      " [2 5]\n",
      " [3 6]]\n",
      "[[1 4]\n",
      " [2 5]\n",
      " [3 6]]\n",
      "[[1 2 3]\n",
      " [4 5 6]]\n",
      "[[1 2 3]\n",
      " [4 5 6]]\n"
     ]
    }
   ],
   "source": [
    "import tensorflow as tf\n",
    "\n",
    "with tf.Session() as sess:\n",
    "    \n",
    "    x = [1,4]\n",
    "    y = [2,5]\n",
    "    z = [3,6]\n",
    "    \n",
    "    print(tf.stack([x,y,z]).eval())\n",
    "    \n",
    "    print(tf.stack([x,y,z], axis=0).eval())\n",
    "    \n",
    "    # axis=1 이면, 열 축으로 쌓음.\n",
    "    print(tf.stack([x,y,z], axis=1).eval())\n",
    "\n",
    "    print(tf.stack([x,y,z], axis=-1).eval())"
   ]
  },
  {
   "cell_type": "code",
   "execution_count": 94,
   "metadata": {},
   "outputs": [
    {
     "name": "stdout",
     "output_type": "stream",
     "text": [
      "[[1 1 1]\n",
      " [1 1 1]]\n",
      "[[0 0 0]\n",
      " [0 0 0]]\n",
      "1 4\n",
      "2 5\n",
      "3 6\n",
      "1 4 7\n",
      "2 5 8\n",
      "3 6 9\n"
     ]
    }
   ],
   "source": [
    "import tensorflow as tf\n",
    "\n",
    "with tf.Session() as sess:\n",
    "    \n",
    "    x = [\n",
    "            [0, 1, 2],\n",
    "            [2, 1, 0]\n",
    "        ]\n",
    "    \n",
    "    # 모양, 크기 동일한 행렬에 1로 채움\n",
    "    print(tf.ones_like(x).eval())\n",
    "    \n",
    "    print(tf.zeros_like(x).eval())\n",
    "    \n",
    "    for x, y in zip([1,2,3], [4,5,6]) :\n",
    "        print(x, y)\n",
    "        \n",
    "    for x, y, z in zip([1,2,3], [4,5,6], [7,8,9]) :\n",
    "        print(x, y, z)"
   ]
  },
  {
   "cell_type": "code",
   "execution_count": null,
   "metadata": {},
   "outputs": [],
   "source": []
  }
 ],
 "metadata": {
  "kernelspec": {
   "display_name": "Python 3",
   "language": "python",
   "name": "python3"
  },
  "language_info": {
   "codemirror_mode": {
    "name": "ipython",
    "version": 3
   },
   "file_extension": ".py",
   "mimetype": "text/x-python",
   "name": "python",
   "nbconvert_exporter": "python",
   "pygments_lexer": "ipython3",
   "version": "3.6.5"
  }
 },
 "nbformat": 4,
 "nbformat_minor": 2
}
