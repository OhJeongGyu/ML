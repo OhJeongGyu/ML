{
 "cells": [
  {
   "cell_type": "markdown",
   "metadata": {},
   "source": [
    "## 모두를 위한 딥러닝 Lab#02\n",
    "#### 2018.06.07\n",
    "\n",
    "---"
   ]
  },
  {
   "cell_type": "markdown",
   "metadata": {},
   "source": [
    "- Hypothesis and cost function\n",
    "\n",
    "$$ H(x) = Wx + b $$\n",
    "\n",
    "$$ cost(W,b) = \\frac{1}{m}\\sum_{i=1}^m(H(x^i)-y^i)^2$$\n",
    "\n",
    "> 가설에서 정답 $y$와의 차이인 $cost$를 최소화 하는 것이 ***학습***이다!"
   ]
  },
  {
   "cell_type": "markdown",
   "metadata": {},
   "source": [
    "- $ H(x) = Wx + b $"
   ]
  },
  {
   "cell_type": "code",
   "execution_count": 2,
   "metadata": {},
   "outputs": [],
   "source": [
    "import tensorflow as tf\n",
    "\n",
    "#input data\n",
    "x_train = [1,2,3]\n",
    "\n",
    "#output data\n",
    "y_train = [1,2,3]\n",
    "\n",
    "# trainable 한 변수이다! 텐서플로가 학습하면서 생성되고 변경됨..\n",
    "W = tf.Variable(tf.random_normal([1]), name='weight')\n",
    "b = tf.Variable(tf.random_normal([1]), name='bias')\n",
    "\n",
    "#가설\n",
    "hypothesis = x_train * W + b"
   ]
  },
  {
   "cell_type": "markdown",
   "metadata": {},
   "source": [
    "- $ cost(W,b) = \\frac{1}{m}\\sum_{i=1}^m(H(x^i)-y^i)^2$"
   ]
  },
  {
   "cell_type": "code",
   "execution_count": 6,
   "metadata": {},
   "outputs": [],
   "source": [
    "# reduce_mean은 각 값들의 평균을 구해주는 함수\n",
    "cost = tf.reduce_mean(tf.square(hypothesis - y_train))"
   ]
  },
  {
   "cell_type": "markdown",
   "metadata": {},
   "source": [
    "- cost를 최소화(minimize)"
   ]
  },
  {
   "cell_type": "code",
   "execution_count": 10,
   "metadata": {},
   "outputs": [],
   "source": [
    "# Minimize\n",
    "# 현재는 매애애애직 :<\n",
    "optimizer = tf.train.GradientDescentOptimizer(learning_rate=0.01)\n",
    "train = optimizer.minimize(cost)"
   ]
  },
  {
   "cell_type": "markdown",
   "metadata": {},
   "source": [
    "- 세션에서 그래프 실행 및 학습"
   ]
  },
  {
   "cell_type": "code",
   "execution_count": 11,
   "metadata": {},
   "outputs": [
    {
     "name": "stdout",
     "output_type": "stream",
     "text": [
      "0 2.3121443 [1.2431537] [-1.9938645]\n",
      "100 0.27465776 [1.6086799] [-1.3836836]\n",
      "200 0.16972184 [1.4784812] [-1.0877]\n",
      "300 0.10487785 [1.3761297] [-0.85503155]\n",
      "400 0.06480812 [1.2956723] [-0.6721328]\n",
      "500 0.0400475 [1.2324253] [-0.52835757]\n",
      "600 0.02474689 [1.1827077] [-0.41533703]\n",
      "700 0.015292092 [1.143625] [-0.32649294]\n",
      "800 0.009449577 [1.1129022] [-0.2566531]\n",
      "900 0.0058392505 [1.0887513] [-0.20175256]\n",
      "1000 0.0036083057 [1.0697665] [-0.15859587]\n",
      "1100 0.0022297183 [1.054843] [-0.12467086]\n",
      "1200 0.0013778312 [1.0431116] [-0.09800271]\n",
      "1300 0.0008514109 [1.0338895] [-0.07703892]\n",
      "1400 0.00052611827 [1.0266403] [-0.06055964]\n",
      "1500 0.00032511383 [1.020942] [-0.04760551]\n",
      "1600 0.00020089892 [1.0164621] [-0.03742218]\n",
      "1700 0.00012414275 [1.0129406] [-0.02941722]\n",
      "1800 7.671376e-05 [1.0101725] [-0.02312471]\n",
      "1900 4.7404024e-05 [1.0079966] [-0.01817804]\n",
      "2000 2.9292098e-05 [1.006286] [-0.01428958]\n"
     ]
    }
   ],
   "source": [
    "sess = tf.Session()\n",
    "sess.run(tf.global_variables_initializer())\n",
    "\n",
    "for step in range(2001):\n",
    "    sess.run(train)\n",
    "    if step % 100 == 0 :\n",
    "        print(step, sess.run(cost), sess.run(W), sess.run(b))"
   ]
  },
  {
   "cell_type": "markdown",
   "metadata": {},
   "source": [
    "- Placeholders"
   ]
  },
  {
   "cell_type": "code",
   "execution_count": 17,
   "metadata": {},
   "outputs": [
    {
     "name": "stdout",
     "output_type": "stream",
     "text": [
      "0 81.1157 [-1.0013461] [0.837861]\n",
      "100 0.0068556843 [0.94642615] [1.2934186]\n",
      "200 0.0034824847 [0.96181685] [1.2378532]\n",
      "300 0.0017689855 [0.9727861] [1.1982505]\n",
      "400 0.0008985939 [0.9806042] [1.170025]\n",
      "500 0.0004564602 [0.98617613] [1.1499084]\n",
      "600 0.00023186622 [0.99014753] [1.1355705]\n",
      "700 0.00011778254 [0.9929779] [1.1253519]\n",
      "800 5.982801e-05 [0.9949953] [1.1180687]\n",
      "900 3.0388768e-05 [0.99643314] [1.1128775]\n",
      "1000 1.5438549e-05 [0.99745774] [1.1091784]\n",
      "1100 7.840767e-06 [0.9981882] [1.1065413]\n",
      "1200 3.9835645e-06 [0.99870867] [1.1046621]\n",
      "1300 2.0232653e-06 [0.99907964] [1.1033226]\n",
      "1400 1.0280015e-06 [0.999344] [1.1023682]\n",
      "1500 5.2225056e-07 [0.9995324] [1.101688]\n",
      "1600 2.6531126e-07 [0.9996667] [1.1012031]\n",
      "1700 1.3483827e-07 [0.9997624] [1.1008576]\n",
      "1800 6.853844e-08 [0.99983066] [1.1006114]\n",
      "1900 3.4801133e-08 [0.9998792] [1.100436]\n",
      "2000 1.7750256e-08 [0.9999138] [1.1003112]\n"
     ]
    }
   ],
   "source": [
    "# 나중에 데이터를 넘기겠다..\n",
    "X = tf.placeholder(tf.float32)\n",
    "Y = tf.placeholder(tf.float32)\n",
    "\n",
    "W = tf.Variable(tf.random_normal([1]), name='weight')\n",
    "b = tf.Variable(tf.random_normal([1]), name='bias')\n",
    "\n",
    "hypothesis = X * W + b\n",
    "\n",
    "cost = tf.reduce_mean(tf.square(hypothesis - Y))\n",
    "\n",
    "optimizer = tf.train.GradientDescentOptimizer(learning_rate=0.01)\n",
    "train = optimizer.minimize(cost)\n",
    "\n",
    "sess = tf.Session()\n",
    "sess.run(tf.global_variables_initializer())\n",
    "\n",
    "for step in range(2001):\n",
    "    cost_val, W_val, b_val, _ = sess.run([cost, W, b, train], feed_dict={X: [1, 2, 3, 4, 5], Y:[2.1, 3.1, 4.1, 5.1, 6.1]})\n",
    "    \n",
    "    if step % 100 == 0 :\n",
    "        print(step, cost_val, W_val, b_val)"
   ]
  },
  {
   "cell_type": "code",
   "execution_count": 18,
   "metadata": {},
   "outputs": [
    {
     "name": "stdout",
     "output_type": "stream",
     "text": [
      "[6.09988]\n",
      "[3.6000957]\n",
      "[2.600182  4.6000094]\n"
     ]
    }
   ],
   "source": [
    "print(sess.run(hypothesis, feed_dict={X:[5]}))\n",
    "print(sess.run(hypothesis, feed_dict={X:[2.5]}))\n",
    "print(sess.run(hypothesis, feed_dict={X:[1.5, 3.5]}))"
   ]
  },
  {
   "cell_type": "code",
   "execution_count": null,
   "metadata": {},
   "outputs": [],
   "source": []
  }
 ],
 "metadata": {
  "kernelspec": {
   "display_name": "Python 3",
   "language": "python",
   "name": "python3"
  },
  "language_info": {
   "codemirror_mode": {
    "name": "ipython",
    "version": 3
   },
   "file_extension": ".py",
   "mimetype": "text/x-python",
   "name": "python",
   "nbconvert_exporter": "python",
   "pygments_lexer": "ipython3",
   "version": "3.6.5"
  }
 },
 "nbformat": 4,
 "nbformat_minor": 2
}
