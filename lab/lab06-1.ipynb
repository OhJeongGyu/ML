{
 "cells": [
  {
   "cell_type": "markdown",
   "metadata": {},
   "source": [
    "## 모두를 위한 딥러닝 Lab#06-1\n",
    "#### 2018.06.18\n",
    "\n",
    "---\n",
    "\n",
    "- Softmax(Multinomial) classification"
   ]
  },
  {
   "cell_type": "code",
   "execution_count": null,
   "metadata": {},
   "outputs": [],
   "source": []
  },
  {
   "cell_type": "code",
   "execution_count": 13,
   "metadata": {},
   "outputs": [
    {
     "name": "stdout",
     "output_type": "stream",
     "text": [
      "0 2.4087949\n",
      "100 0.7462456\n",
      "200 0.64415216\n",
      "300 0.58241606\n",
      "400 0.5303235\n",
      "500 0.48192006\n",
      "600 0.4351594\n",
      "700 0.38911277\n",
      "800 0.34336495\n",
      "900 0.2981929\n",
      "1000 0.25736827\n",
      "1100 0.23684873\n",
      "1200 0.22519113\n",
      "1300 0.21460599\n",
      "1400 0.20493709\n",
      "1500 0.19607028\n",
      "1600 0.18791033\n",
      "1700 0.18037723\n",
      "1800 0.17340213\n",
      "1900 0.16692653\n",
      "2000 0.16089977\n",
      "[[9.62895111e-15 1.00000000e+00 3.07574547e-36]\n",
      " [1.92302934e-13 1.25493125e-06 9.99998689e-01]\n",
      " [1.29608015e-05 3.30125261e-03 9.96685803e-01]\n",
      " [0.00000000e+00 9.99999881e-01 7.80323504e-08]] [1 2 2 1]\n"
     ]
    }
   ],
   "source": [
    "import tensorflow as tf\n",
    "\n",
    "x_data = [[1,2,1,1], [2,1,3,2],[3,1,3,4],[4,1,5,5],[1,7,5,5],[1,2,5,6],[1,6,6,6],[1,7,7,7]]\n",
    "\n",
    "# one hot encoding. 하나만 정답!\n",
    "y_data = [[0,0,1],[0,0,1],[0,0,1],[0,1,0],[0,1,0],[0,1,0],[1,0,0],[1,0,0]]\n",
    "\n",
    "X = tf.placeholder(\"float\", [None, 4])\n",
    "Y = tf.placeholder(\"float\", [None, 3])\n",
    "\n",
    "nb_classes = 3\n",
    "\n",
    "# 4 -> X의 갯수, nb_classes -> Y의 갯수\n",
    "W = tf.Variable(tf.random_normal([4, nb_classes]), name='weight')\n",
    "b = tf.Variable(tf.random_normal([nb_classes]), name='bias')\n",
    "\n",
    "hypothesis = tf.nn.softmax(tf.matmul(X, W) + b)\n",
    "\n",
    "# cross entropy\n",
    "cost = tf.reduce_mean(-tf.reduce_sum(Y*tf.log(hypothesis), axis=1))\n",
    "optimizer = tf.train.GradientDescentOptimizer(learning_rate=0.1).minimize(cost)\n",
    "\n",
    "with tf.Session() as sess:\n",
    "    sess.run(tf.global_variables_initializer())\n",
    "    \n",
    "    for i in range(2001) :\n",
    "            sess.run(optimizer, feed_dict={X: x_data, Y: y_data})\n",
    "            if i % 100 == 0 :\n",
    "                print(i, sess.run(cost, feed_dict={X: x_data, Y: y_data}))\n",
    "                \n",
    "                \n",
    "    # testing\n",
    "    a = sess.run(hypothesis, feed_dict={X:[[10,20,30,40], [4,3,2,1], [1,1,1,1], [100,100,100,100]]})\n",
    "\n",
    "    print(a, sess.run(tf.argmax(a, 1)))"
   ]
  },
  {
   "cell_type": "code",
   "execution_count": null,
   "metadata": {},
   "outputs": [],
   "source": []
  }
 ],
 "metadata": {
  "kernelspec": {
   "display_name": "Python 3",
   "language": "python",
   "name": "python3"
  },
  "language_info": {
   "codemirror_mode": {
    "name": "ipython",
    "version": 3
   },
   "file_extension": ".py",
   "mimetype": "text/x-python",
   "name": "python",
   "nbconvert_exporter": "python",
   "pygments_lexer": "ipython3",
   "version": "3.6.5"
  }
 },
 "nbformat": 4,
 "nbformat_minor": 2
}
