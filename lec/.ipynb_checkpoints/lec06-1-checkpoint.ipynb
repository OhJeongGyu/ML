{
 "cells": [
  {
   "cell_type": "markdown",
   "metadata": {},
   "source": [
    "## 모두를 위한 딥러닝 Lec#06-1\n",
    "#### 2018.06.14\n",
    "\n",
    "---\n",
    "\n",
    "- Softmax(Multinomial) Classification\n",
    "\n",
    "> 여러 개로 분류를 할 때 사용한다.\n",
    "\n",
    "- 복습\n",
    "\n",
    "    - Logistic Regression\n",
    "    \n",
    "        $$ H_L(x) = Wx, z = H_L(X) $$\n",
    "        $$ g(z) = \\frac{1}{1+e^{-z}} $$\n",
    "        \n",
    "        > g는 0 부터 1의 값을 갖는다. 시그모이드, 로지스틱 이라고 부른다\n",
    "        \n",
    "        - 최종 가설 함수\n",
    "            $$ H_R(x) = g(H_L(x)) $$\n",
    "  \n"
   ]
  },
  {
   "cell_type": "code",
   "execution_count": null,
   "metadata": {},
   "outputs": [],
   "source": []
  }
 ],
 "metadata": {
  "kernelspec": {
   "display_name": "Python 3",
   "language": "python",
   "name": "python3"
  },
  "language_info": {
   "codemirror_mode": {
    "name": "ipython",
    "version": 3
   },
   "file_extension": ".py",
   "mimetype": "text/x-python",
   "name": "python",
   "nbconvert_exporter": "python",
   "pygments_lexer": "ipython3",
   "version": "3.6.5"
  }
 },
 "nbformat": 4,
 "nbformat_minor": 2
}
