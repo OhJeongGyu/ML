{
 "cells": [
  {
   "cell_type": "markdown",
   "metadata": {},
   "source": [
    "## 모두를 위한 딥러닝 Lec#06-2\n",
    "#### 2018.06.14\n",
    "\n",
    "---\n",
    "\n",
    "\n",
    "- Softmax\n",
    "    1. 0~1까지의 값을 갖는다.\n",
    "    1. 모두 합하면 1임. (확률로 볼 수 있음.)\n",
    "    1. ONE-HOT 인코딩\n",
    "        - 가장 높은 가능성에 대한 값만 1 나머진 0 으로 인코딩\n",
    "$$ S(i) = \\frac{e_i}{\\sum{e_i}} $$\n",
    "\n",
    "\n",
    "- Cost Function\n",
    "\n",
    "> Cross Entropy\n",
    "\n",
    "$$ D(S,L) = -\\sum_{i}{}L_ilog(S_i)$$\n",
    "\n",
    "$$ S(Y) = 예측값, L = Y(정답)$$\n",
    "\n",
    "- Cross Entropy cost funtion\n",
    "\n",
    "$$ -\\sum_{i}{}L_ilog(S_i) = \\sum_{i}{}(L_i) * (- log(S_i)) $$\n",
    "\n",
    "- L = [[0], [1]] 일 때,\n",
    "    1. Y = [[0], [1]]로 예측 (맞는 예측)\n",
    "        - [[0], [1]] ⋅ -log[[0], [1]] = [[0], [1]] ⋅ [[∞], [0]] = ∞⋅0 + 1⋅0 = 0\n",
    "    2. Y = [[1], [0]]로 예측 (틀린 예측)\n",
    "        - [[0], [1]] ⋅ -log[[1], [0]] = [[0], [1]] ⋅ [[0], [∞]] = 1⋅0 + 1⋅∞ = ∞\n",
    "\n",
    "- L = [[1], [0]] 일 때,\n",
    "    1. Y = [[0], [1]]로 예측 (틀린 예측)\n",
    "        - [[1], [0]] ⋅ -log[[0], [1]] = [[1], [0]] ⋅ [[∞], [0]] = 1⋅∞ + 0⋅0 = ∞\n",
    "    2. Y = [[1], [0]]로 예측 (맞는 예측)\n",
    "        - [[1], [0]] ⋅ -log[[1], [0]] = [[1], [0]] ⋅ [[0], [∞]] = 1⋅0 + 0⋅∞ = 0\n"
   ]
  },
  {
   "cell_type": "code",
   "execution_count": null,
   "metadata": {},
   "outputs": [],
   "source": []
  }
 ],
 "metadata": {
  "kernelspec": {
   "display_name": "Python 3",
   "language": "python",
   "name": "python3"
  },
  "language_info": {
   "codemirror_mode": {
    "name": "ipython",
    "version": 3
   },
   "file_extension": ".py",
   "mimetype": "text/x-python",
   "name": "python",
   "nbconvert_exporter": "python",
   "pygments_lexer": "ipython3",
   "version": "3.6.5"
  }
 },
 "nbformat": 4,
 "nbformat_minor": 2
}
