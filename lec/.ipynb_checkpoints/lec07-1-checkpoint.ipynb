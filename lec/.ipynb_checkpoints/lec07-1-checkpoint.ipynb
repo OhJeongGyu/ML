{
 "cells": [
  {
   "cell_type": "markdown",
   "metadata": {},
   "source": [
    "## 모두를 위한 딥러닝 Lec#07-1\n",
    "#### 2018.06.19\n",
    "\n",
    "---\n",
    "\n",
    "- Learning rate, data preprocessing, overfitting 방지\n",
    "\n",
    "- Grdeint Descent 알고리즘에서 Learning rate를 어떻게 정할까?\n",
    "\n",
    "    - 너무 큰 러닝레이트.. -> ```Overshooting```\n",
    "        - cost의 최솟값을 못 찾을 수 있다...\n",
    "        \n",
    "    - 너무 작은 러닝레이트 \n",
    "        - 너무 오래 걸리거나 local minimum에서 멈출 수 있다.\n",
    "    \n",
    "    > 수 개의 러닝레이트로 시도 해야한다.\n",
    "    \n",
    "- Data(X) preprocessing for gradient descent \n",
    "\n",
    "x1|x2|y\n",
    "---|---|---\n",
    "1|9000|A\n",
    "2|-5000|A\n",
    "4|-2000|B\n",
    "6|8000|B\n",
    "9|9000|C\n",
    "\n",
    "- 데이터 간의 차이가 큰 경우 ```Normalization```해 주어야 한다.\n",
    "\n",
    "$$ x_j\\prime = \\frac{x_j-\\mu_j}{\\sigma_j}$$\n",
    "\n",
    "``` X_std[:,0] = (X[:,0] - X[:,0].mean()) / X[:,0].std() ```\n",
    "\n",
    "\n",
    "- Overfitting\n",
    "\n",
    "    - 학습데이터에 너무 잘 맞지만 실제 데이터나 테스트 데이터에는 맞지 않는 경우도 있음. \n",
    "    - 어떻게...?\n",
    "        - 더욱 많은 트레이닝 데이터를..\n",
    "        - 피쳐 감소.\n",
    "        - Regularization (일반화)\n",
    "        \n",
    "- Regularization\n",
    "\n",
    "    - 너무 큰 Weight를 갖지 말자.\n",
    "    - regulaization strength\n"
   ]
  },
  {
   "cell_type": "code",
   "execution_count": null,
   "metadata": {},
   "outputs": [],
   "source": []
  }
 ],
 "metadata": {
  "kernelspec": {
   "display_name": "Python 3",
   "language": "python",
   "name": "python3"
  },
  "language_info": {
   "codemirror_mode": {
    "name": "ipython",
    "version": 3
   },
   "file_extension": ".py",
   "mimetype": "text/x-python",
   "name": "python",
   "nbconvert_exporter": "python",
   "pygments_lexer": "ipython3",
   "version": "3.6.5"
  }
 },
 "nbformat": 4,
 "nbformat_minor": 2
}
