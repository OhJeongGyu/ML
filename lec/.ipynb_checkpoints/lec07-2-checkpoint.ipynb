{
 "cells": [
  {
   "cell_type": "markdown",
   "metadata": {},
   "source": [
    "## 모두를 위한 딥러닝 Lec#07-2\n",
    "#### 2018.06.19\n",
    "\n",
    "--- \n",
    "\n",
    "- 러닝, 테스트 데이터 셋\n",
    "    - Performance evaluation: ```Is this good??```\n",
    "    - 트레이닝 데이터셋을 학습시키고, 동일한 트레이닝 데이터셋의 데이터로 평가를 한다면 100% 일치하게 된다.\n",
    "    - training data set / test data set 두 개로 나눔.\n",
    "    - training data set을 다시 나눔.. Training set / Validation set\n",
    "        - Validation를 통해 트레이닝 중에 러닝레이트나 표준화 등을 정교하게 만듬..(튜닝)\n",
    "        \n",
    "- Online learning\n",
    "    - 트레이닝 셋이 100만개(매우 많은 경우) 일 때, **한 번**에 트레이닝 시키기 어렵다.\n",
    "    - 데이터를 여러개의 셋으로 나누어 학습\n",
    "    \n",
    "- Accuracy\n",
    "    - 예측이 얼마나 맞았을까~?\n",
    "    \n",
    "    "
   ]
  },
  {
   "cell_type": "code",
   "execution_count": null,
   "metadata": {},
   "outputs": [],
   "source": []
  }
 ],
 "metadata": {
  "kernelspec": {
   "display_name": "Python 3",
   "language": "python",
   "name": "python3"
  },
  "language_info": {
   "codemirror_mode": {
    "name": "ipython",
    "version": 3
   },
   "file_extension": ".py",
   "mimetype": "text/x-python",
   "name": "python",
   "nbconvert_exporter": "python",
   "pygments_lexer": "ipython3",
   "version": "3.6.5"
  }
 },
 "nbformat": 4,
 "nbformat_minor": 2
}
