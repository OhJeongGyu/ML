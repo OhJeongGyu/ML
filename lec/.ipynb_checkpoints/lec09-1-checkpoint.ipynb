{
 "cells": [
  {
   "cell_type": "markdown",
   "metadata": {},
   "source": [
    "## 모두를 위한 딥러닝 Lec#09-2\n",
    "#### 2018.06.30\n",
    "\n",
    "---\n",
    "\n",
    "- XOR는 간단했지만, 하나의 유닛으론 해결이 불가능하여 뉴럴네트워크가 잘 안될 것이라고 생각했었다.\n",
    "\n",
    "- 여러 개의 유닛을 통해 XOR 해결\n",
    "\n",
    "- XOR \n",
    "    - XOR : 다를 때 1, 같을 때 0\n",
    "- Neural Net\n",
    "    - $y_1=5x_1+5x_2-8$\n",
    "    - $y_2=-7x_1+-7x_2+3$\n",
    "    - $y=-11y_1+-11y_2+6$\n",
    "    - $x_1=0, x_2=0$\n",
    "        - $y_1 = Sigmoid(-8) = 0, y_2 = Sigmoid(3) = 1, y = Sigmoid(-5) = 0 $\n",
    "    - $x_1=0, x_2=1$\n",
    "        - $y_1 = Sigmoid(-3) = 0, y_2 = Sigmoid(-4) = 0, y = Sigmoid(6) = 1 $\n",
    "    - $x_1=1, x_2=0$\n",
    "        - $y_1 = Sigmoid(-3) = 0, y_2 = Sigmoid(-4) = 0, y = Sigmoid(6) = 1 $\n",
    "    - $x_1=1, x_2=1$\n",
    "        - $y_1 = Sigmoid(2) = 1, y_2 = Sigmoid(-11) = 0, y = Sigmoid(-5) = 0 $ \n",
    "\n",
    "- Forward propagation\n",
    "\n",
    "- Can you find another W and b for the XOR?\n",
    "\n",
    "```K = tf.sigmoid(tf.matmul(X, W1) + b1)\n",
    "hypothesis = tf.sigmoid(tf.matmul(K, W2 + b2```\n",
    "\n",
    "- W1, W2, B1, B2를 트레이닝 데이터로부터 어떻게 찾을 수 있을까..? -> Back Propagation"
   ]
  },
  {
   "cell_type": "code",
   "execution_count": null,
   "metadata": {},
   "outputs": [],
   "source": []
  }
 ],
 "metadata": {
  "kernelspec": {
   "display_name": "Python 3",
   "language": "python",
   "name": "python3"
  },
  "language_info": {
   "codemirror_mode": {
    "name": "ipython",
    "version": 3
   },
   "file_extension": ".py",
   "mimetype": "text/x-python",
   "name": "python",
   "nbconvert_exporter": "python",
   "pygments_lexer": "ipython3",
   "version": "3.6.5"
  }
 },
 "nbformat": 4,
 "nbformat_minor": 2
}
