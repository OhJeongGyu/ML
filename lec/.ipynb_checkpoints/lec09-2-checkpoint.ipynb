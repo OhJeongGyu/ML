{
 "cells": [
  {
   "cell_type": "markdown",
   "metadata": {},
   "source": [
    "## 모두를 위한 딥러닝 Lec#09-2\n",
    "#### 2018.07.03\n",
    "\n",
    "---\n",
    "\n",
    "- Neural Netowork(NN)\n",
    "\n",
    "- 어떻게 W1, W2, B1,B2를 트레이닝 데이터로부터 구하지..?\n",
    "\n",
    "- Backpropagation(chain rule)\n",
    "    \n",
    "    - f = wx+b, g = wx, f = g+b\n",
    "    - forward(w=-2, x=5, b=3)\n",
    "    - backward"
   ]
  }
 ],
 "metadata": {
  "kernelspec": {
   "display_name": "Python 3",
   "language": "python",
   "name": "python3"
  },
  "language_info": {
   "codemirror_mode": {
    "name": "ipython",
    "version": 3
   },
   "file_extension": ".py",
   "mimetype": "text/x-python",
   "name": "python",
   "nbconvert_exporter": "python",
   "pygments_lexer": "ipython3",
   "version": "3.6.5"
  }
 },
 "nbformat": 4,
 "nbformat_minor": 2
}
