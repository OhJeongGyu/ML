{
 "cells": [
  {
   "cell_type": "markdown",
   "metadata": {},
   "source": [
    "## 모두를 위한 딥러닝 Lec#09-X\n",
    "#### 2018.07.01\n",
    "\n",
    "---\n",
    "\n",
    "- 미분 정리\n",
    "    - 순간 변화율 \n",
    "    $$ \\frac{d}{dx}f(x) = \\lim_{{\\triangle}x\\to0}\\frac{f(x+{\\triangle}x)-f(x)}{{\\triangle}x}$$\n",
    "    \n",
    "    - $ f(x) = 3, {\\triangle}x = 0.01 $일 때 \n",
    "\n",
    "        - $ \\frac{f(x+0.01) - f(x)}{0.01} = \\frac{3-3}{0.01} = 0$\n",
    "\n",
    "    - $ f(x) = x, {\\triangle}x = 0.01 $일 때 \n",
    "    \n",
    "        - $ \\frac{f(x+0.01) - f(x)}{0.01} = \\frac{x+0.01-x}{0.01} = 1$\n",
    "    \n",
    "    - $ f(x) = 2x, {\\triangle}x = 0.01 $일 때 \n",
    "    \n",
    "        - $ \\frac{f(x+0.01) - f(x)}{0.01} = \\frac{2x+0.02-2x}{0.01} = 2$"
   ]
  },
  {
   "cell_type": "markdown",
   "metadata": {},
   "source": [
    "- 편미분\n",
    "    > 다른 변수는 상수로 취급한다\n",
    "- 복합함수\n",
    "    - $f(g(x))$\n",
    "    - $\\frac{{\\delta}f}{{\\delta}x} = \\frac{{\\delta}f}{{\\delta}g}\\frac{{\\delta}g}{{\\delta}x}$"
   ]
  },
  {
   "cell_type": "code",
   "execution_count": null,
   "metadata": {},
   "outputs": [],
   "source": []
  }
 ],
 "metadata": {
  "kernelspec": {
   "display_name": "Python 3",
   "language": "python",
   "name": "python3"
  },
  "language_info": {
   "codemirror_mode": {
    "name": "ipython",
    "version": 3
   },
   "file_extension": ".py",
   "mimetype": "text/x-python",
   "name": "python",
   "nbconvert_exporter": "python",
   "pygments_lexer": "ipython3",
   "version": "3.6.5"
  }
 },
 "nbformat": 4,
 "nbformat_minor": 2
}
