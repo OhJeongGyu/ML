{
 "cells": [
  {
   "cell_type": "markdown",
   "metadata": {},
   "source": [
    "## 모두를 위한 딥러닝 Lec#02\n",
    "#### 2018.06.08\n",
    "\n",
    "---\n",
    "\n",
    "- Linear Regression\n",
    "\t\n",
    "\t> 0~100점과 같은 범위에서 시험 점수를 통한 예측\n",
    "\n",
    "- 트레이닝 데이터 \n",
    "\n",
    "    > 학습을 위한 데이터\n",
    "\t\n",
    "x(hours)|y(score)\n",
    "---|---\n",
    "10|90\n",
    "9|80\n",
    "3|50\n",
    "2|30"
   ]
  },
  {
   "cell_type": "markdown",
   "metadata": {},
   "source": [
    "- Regression Model\n",
    "\n",
    "    > 또 다른 **input**을 주면, 이에 해당하는 값을 예측!\n",
    "\n",
    "    - 또 다른 예제\n",
    "\n",
    "        - 트레이닝 데이터\n",
    "\n",
    "x|y\n",
    "---|---\n",
    "1|1\n",
    "2|2\n",
    "3|3"
   ]
  },
  {
   "cell_type": "markdown",
   "metadata": {},
   "source": [
    "- (Linear) Hypothesis\n",
    "\n",
    "    > 데이터가 선형적일 것이라고 **가설**을 세움\n",
    "                \n",
    "    - $ H(x) = Wx + b $\n",
    "    \n",
    "    - $ W $와 $ B $에 많은 값 들이 예측될 수 있다.\n",
    "        \n",
    "        - $ H(x) = x  $\n",
    "        - $ H(x) = 0.5x + 2 $\n",
    "        - $ H(x) = 2/3x - 1 $\n",
    "\n",
    "- Cost function (Loss Function)\n",
    "\n",
    "    > ***가설과 실제 데이터가 얼마나 다른가***를 나타내는 함수, cost 함수를 ***최소화*** 하는 것이 목표!\n",
    "    \n",
    "$$ cost = (H(x) - y)^2 $$\n",
    "\n",
    "$$ cost = \\frac{1}{m}\\sum_{i=1}^n(H(x^i)-y^i)^2) $$\n",
    "\n",
    "$$ cost(W, b) = \\frac{1}{m}\\sum_{i=1}^n(H(x^i)-y^i)^2) $$"
   ]
  },
  {
   "cell_type": "code",
   "execution_count": null,
   "metadata": {},
   "outputs": [],
   "source": []
  }
 ],
 "metadata": {
  "kernelspec": {
   "display_name": "Python 3",
   "language": "python",
   "name": "python3"
  },
  "language_info": {
   "codemirror_mode": {
    "name": "ipython",
    "version": 3
   },
   "file_extension": ".py",
   "mimetype": "text/x-python",
   "name": "python",
   "nbconvert_exporter": "python",
   "pygments_lexer": "ipython3",
   "version": "3.6.5"
  }
 },
 "nbformat": 4,
 "nbformat_minor": 2
}
