{
 "cells": [
  {
   "cell_type": "markdown",
   "metadata": {},
   "source": [
    "## 모두를 위한 딥러닝 Lec#08-1\n",
    "#### 2018.06.20\n",
    "\n",
    "---\n",
    "\n",
    "- 딥러닝의 기본 개념 : 시작과 XOR 문제\n",
    "\n",
    "- 인간의 궁극적 문제를 해결할 수 있는 기계를 만들자..\n",
    "\n",
    "- 뇌를 생각..\n",
    "    - 뇌는 시냅스의 집합으로 구성되어 있음.\n",
    "    - 각 시냅스는 각 인풋들을 해당하는 Weight와 곱한후 모두 더한 값에 bias를 합하여 아웃풋이 됨.\n",
    "    - 이를 수학적으로 만듬.. Activation Function\n",
    "- Activation Function\n",
    " \n",
    "$$ \\sum_{i}{}w_ix_i+b $$\n",
    "\n",
    "- XOR를 Linear로 해결할 수 있나?\n",
    "    - AND 와 OR는 가능하지만 XOR는 50%의 성능만 낼 수 있음..\n",
    "- Perceptrons\n",
    "- Backpropagation\n",
    "- Convolutional Neural Networks\n"
   ]
  },
  {
   "cell_type": "code",
   "execution_count": null,
   "metadata": {},
   "outputs": [],
   "source": []
  }
 ],
 "metadata": {
  "kernelspec": {
   "display_name": "Python 3",
   "language": "python",
   "name": "python3"
  },
  "language_info": {
   "codemirror_mode": {
    "name": "ipython",
    "version": 3
   },
   "file_extension": ".py",
   "mimetype": "text/x-python",
   "name": "python",
   "nbconvert_exporter": "python",
   "pygments_lexer": "ipython3",
   "version": "3.6.5"
  }
 },
 "nbformat": 4,
 "nbformat_minor": 2
}
