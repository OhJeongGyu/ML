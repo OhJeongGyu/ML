{
 "cells": [
  {
   "cell_type": "markdown",
   "metadata": {},
   "source": [
    "## 모두를 위한 딥러닝 Lec#08-2\n",
    "#### 2018.06.29\n",
    "\n",
    "---\n",
    "\n",
    "- Big problem\n",
    "\n",
    "- 딥러닝이 덜 발달되었을 때 CIFAR(캐나다 연구기관)에서 지속적으로 투자하여 빙하기를 견뎌냄\n",
    "\n",
    "- 06, 07년 Hinton과 Bengio가 논문을 발표함\n",
    "\n",
    "    - 뉴럴네트워크에서 **Deep nets**, **Deep Learning**이라는 용어를 쓰기 시작\n",
    "    \n",
    "- ImageNet Classfication\n",
    "    - 이미지를 컴퓨팅을 통해 분류.\n",
    "    - 2010년에는 에러율이 약 30%였음.\n",
    "    - 2012년 딥러닝을 통해 약 15%로 줄이고, 2015년에는 3%대로 내려옴 (CNN)\n",
    "    - 그림을 설명하는 것도 가능해짐\n",
    "\n",
    "- Deep API Learning\n",
    "\n",
    "- Speech Recognition Errors\n",
    "    - 바이두에서 95%이상의 정확도로 음성 캐치\n",
    "    \n",
    "- 알파고.\n",
    "\n",
    "- Why should I care?\n",
    "    - 데이터가 있나? 무언가 팔고 있나?.. 모두 적용 가능!@\n",
    "    - 넷플릭스, 구글, 페이스북.. 모두 적용하고 이씀..\n",
    "    \n",
    "- Why Now?\n",
    "    - 늦지 않아따!\n",
    "    - 제품에 적용할 수 있는 수준이 되었고, 도구도 많다!"
   ]
  },
  {
   "cell_type": "code",
   "execution_count": null,
   "metadata": {},
   "outputs": [],
   "source": []
  }
 ],
 "metadata": {
  "kernelspec": {
   "display_name": "Python 3",
   "language": "python",
   "name": "python3"
  },
  "language_info": {
   "codemirror_mode": {
    "name": "ipython",
    "version": 3
   },
   "file_extension": ".py",
   "mimetype": "text/x-python",
   "name": "python",
   "nbconvert_exporter": "python",
   "pygments_lexer": "ipython3",
   "version": "3.6.5"
  }
 },
 "nbformat": 4,
 "nbformat_minor": 2
}
